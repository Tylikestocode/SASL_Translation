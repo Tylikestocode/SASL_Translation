{
 "cells": [
  {
   "cell_type": "code",
   "execution_count": 2,
   "id": "1dc3fdc5",
   "metadata": {},
   "outputs": [],
   "source": [
    "import cv2\n",
    "import mediapipe as mp\n",
    "from matplotlib import pyplot as plt\n",
    "import time\n",
    "import os \n",
    "import numpy as np"
   ]
  },
  {
   "cell_type": "code",
   "execution_count": 3,
   "id": "f5cb71bb-263c-4909-8114-cb3b4a316533",
   "metadata": {
    "tags": []
   },
   "outputs": [],
   "source": [
    "mp_holistic = mp.solutions.holistic\n",
    "mp_draw = mp.solutions.drawing_utils"
   ]
  },
  {
   "cell_type": "code",
   "execution_count": 4,
   "id": "46a2a64a-a486-43e4-8e6a-16ae5ed4bdb2",
   "metadata": {
    "tags": []
   },
   "outputs": [],
   "source": [
    "def Media_Pipe_Detection(image, model):\n",
    "    image = cv2.cvtColor(image, cv2.COLOR_BGRA2RGB)\n",
    "    image.flags.writeable = False\n",
    "    result = model.process(image)\n",
    "    image.flags.writeable = True\n",
    "    image = cv2.cvtColor(image, cv2.COLOR_RGB2BGR)\n",
    "    return image, result"
   ]
  },
  {
   "cell_type": "code",
   "execution_count": 5,
   "id": "14c815e7-d085-4870-ad59-1a29ae415101",
   "metadata": {
    "tags": []
   },
   "outputs": [],
   "source": [
    "def draw_keypoints(result, image):\n",
    "\n",
    "    mp_draw.draw_landmarks(image, result.face_landmarks, mp_holistic.FACEMESH_TESSELATION,\n",
    "                           mp_draw.DrawingSpec(color=(255, 0, 0), thickness=1, circle_radius=1),\n",
    "                           mp_draw.DrawingSpec(color=(255, 0, 0), thickness=1, circle_radius=1))\n",
    "    \n",
    "    mp_draw.draw_landmarks(image, result.left_hand_landmarks, mp_holistic.HAND_CONNECTIONS,\n",
    "                           mp_draw.DrawingSpec(color=(255, 0, 0), thickness=2, circle_radius=4),\n",
    "                           mp_draw.DrawingSpec(color=(255, 0, 0), thickness=2, circle_radius=4))\n",
    "\n",
    "    mp_draw.draw_landmarks(image, result.right_hand_landmarks, mp_holistic.HAND_CONNECTIONS,\n",
    "                           mp_draw.DrawingSpec(color=(255, 0, 0), thickness=2, circle_radius=4),\n",
    "                           mp_draw.DrawingSpec(color=(255, 0, 0), thickness=2, circle_radius=4))\n",
    "\n",
    "    mp_draw.draw_landmarks(image, result.pose_landmarks, mp_holistic.POSE_CONNECTIONS,\n",
    "                           mp_draw.DrawingSpec(color=(255, 0, 0), thickness=1, circle_radius=1),\n",
    "                           mp_draw.DrawingSpec(color=(255, 0, 0), thickness=1, circle_radius=1))"
   ]
  },
  {
   "cell_type": "code",
   "execution_count": 6,
   "id": "3dbf2655-15b3-4b49-89e2-10ea59472edb",
   "metadata": {
    "tags": []
   },
   "outputs": [],
   "source": [
    "def collect_keypoints(result):\n",
    "    face = np.array([[res.x, res.y, res.z] for res in result.face_landmarks.landmark]).flatten() if result.face_landmarks else np.zeros(1404)\n",
    "    right_hand = np.array([[res.x, res.y, res.z] for res in  result.right_hand_landmarks.landmark]).flatten() if result.right_hand_landmarks else np.zeros(63)\n",
    "    left_hand = np.array([[res.x, res.y, res.z] for res in result.left_hand_landmarks.landmark]).flatten() if result.left_hand_landmarks else np.zeros(63)\n",
    "    pose = np.array([[res.x, res.y, res.z, res.visibility] for res in result.pose_landmarks.landmark]).flatten() if result.pose_landmarks else np.zeros(132)\n",
    "    return np.concatenate([face, right_hand, left_hand, pose])"
   ]
  },
  {
   "cell_type": "code",
   "execution_count": 7,
   "id": "1b9d8267-4933-4082-a315-6fe46521c0a1",
   "metadata": {
    "tags": []
   },
   "outputs": [],
   "source": [
    "classes = np.array(['Hello', 'Thanks'])\n",
    "sequences = 30\n",
    "sequence_length = 30\n",
    "Data_Folder = os.path.join('DATA')"
   ]
  },
  {
   "cell_type": "code",
   "execution_count": 8,
   "id": "d90ad1c8",
   "metadata": {},
   "outputs": [],
   "source": [
    "#Last Collected 29\n",
    "sequence_start = 30\n",
    "sequence_end = 60\n",
    "\n",
    "\n",
    "for action in classes:\n",
    "    for sequence in range(sequence_start, sequence_end):\n",
    "        try:\n",
    "            os.makedirs(os.path.join('DATA', action, str(sequence)))\n",
    "        except:\n",
    "            pass\n"
   ]
  },
  {
   "cell_type": "code",
   "execution_count": 9,
   "id": "80d05eb2",
   "metadata": {},
   "outputs": [],
   "source": [
    "capture = cv2.VideoCapture(0)\n",
    "# Set mediapipe model \n",
    "with mp_holistic.Holistic(min_detection_confidence=0.5, min_tracking_confidence=0.5) as holistic:\n",
    "    \n",
    "    # Loop through actions\n",
    "    for action in classes:\n",
    "        # Loop through sequences aka videos\n",
    "        for sequence in range(sequence_start, sequence_end):\n",
    "            # Loop through video length aka sequence length\n",
    "            for frame_num in range(sequence_length):\n",
    "\n",
    "                # Read feed\n",
    "                ret, frame = capture.read()\n",
    "\n",
    "                # Make detections\n",
    "                image, result = Media_Pipe_Detection(frame, holistic)\n",
    "\n",
    "\n",
    "                # Draw landmarks\n",
    "                draw_keypoints(result, image)\n",
    "        \n",
    "                if frame_num == 0: \n",
    "                    cv2.putText(image, 'DATA COLLECTION IS ABOUT TO START', (120,200), \n",
    "                               cv2.FONT_HERSHEY_SIMPLEX, 1, (0,255, 0), 4, cv2.LINE_AA)\n",
    "                    cv2.putText(image, 'Collecting frames for {} Video Number {}'.format(action, sequence), (15,12), \n",
    "                               cv2.FONT_HERSHEY_SIMPLEX, 0.5, (0, 0, 255), 1, cv2.LINE_AA)\n",
    "                    cv2.imshow('Cam Feed', image)\n",
    "                    cv2.waitKey(2000)\n",
    "                    \n",
    "                else: \n",
    "                    cv2.putText(image, 'Collecting frames for {} Video Number {}'.format(action, sequence), (15,12), \n",
    "                               cv2.FONT_HERSHEY_SIMPLEX, 0.5, (0, 0, 255), 1, cv2.LINE_AA)\n",
    "                    # Show to screen\n",
    "                    cv2.imshow('Cam Feed', image)\n",
    "\n",
    "                keypoints = collect_keypoints(result)\n",
    "                numpy_path = os.path.join(Data_Folder, action, str(sequence), str(frame_num))\n",
    "                np.save(numpy_path, keypoints)\n",
    "\n",
    "                cv2.imshow('Cam Feed', image)\n",
    "                \n",
    "                \n",
    "                # Break gracefully\n",
    "                if cv2.waitKey(10) & 0xFF == ord('q'):\n",
    "                    break\n",
    "\n",
    "    capture.release()\n",
    "    cv2.destroyAllWindows()"
   ]
  }
 ],
 "metadata": {
  "kernelspec": {
   "display_name": "Python 3 (ipykernel)",
   "language": "python",
   "name": "python3"
  },
  "language_info": {
   "codemirror_mode": {
    "name": "ipython",
    "version": 3
   },
   "file_extension": ".py",
   "mimetype": "text/x-python",
   "name": "python",
   "nbconvert_exporter": "python",
   "pygments_lexer": "ipython3",
   "version": "3.10.8"
  }
 },
 "nbformat": 4,
 "nbformat_minor": 5
}
