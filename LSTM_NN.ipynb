{
 "cells": [
  {
   "cell_type": "code",
   "execution_count": 1,
   "metadata": {},
   "outputs": [],
   "source": [
    "from sklearn.model_selection import train_test_split\n",
    "import tensorflow as tf\n",
    "import numpy as np\n",
    "import os"
   ]
  },
  {
   "cell_type": "markdown",
   "metadata": {},
   "source": [
    "### Loading the Data from the Data Folder"
   ]
  },
  {
   "cell_type": "code",
   "execution_count": 2,
   "metadata": {},
   "outputs": [],
   "source": [
    "labels = {'Hello' : 0, 'How are you': 1, 'Thanks': 2, 'Braai' : 3, 'Pap' : 4}"
   ]
  },
  {
   "cell_type": "code",
   "execution_count": 3,
   "metadata": {},
   "outputs": [],
   "source": [
    "action_class = []\n",
    "sequences = []\n",
    "classes = ['Hello', 'How are you', 'Thanks', 'Braai', 'Pap']\n",
    "no_sequences = 400\n",
    "sequence_length = 30\n",
    "\n",
    "for action in classes:\n",
    "    for sequence in range(no_sequences):\n",
    "        window = []\n",
    "        for frame in range(sequence_length):\n",
    "            result = np.load(os.path.join('C:\\\\Users\\\\Tyron\\\\Sign_Language_Detection\\\\SASL_Sign_Language_Detection\\\\DATA', action, str(sequence), '{}.npy'.format(frame)))\n",
    "            window.append(result)\n",
    "        sequences.append(window)\n",
    "        if action == 'Hello':\n",
    "                action_class.append(np.array([1, 0, 0, 0, 0]))\n",
    "        elif action == 'How are you':\n",
    "                action_class.append(np.array([0, 1, 0, 0, 0]))\n",
    "        elif action == 'Thanks':\n",
    "                action_class.append(np.array([0, 0, 1, 0, 0]))\n",
    "        elif action == 'Braai':\n",
    "                action_class.append(np.array([0, 0, 0, 1, 0]))\n",
    "        elif action == 'Pap':\n",
    "                action_class.append(np.array([0, 0, 0, 0, 1]))"
   ]
  },
  {
   "cell_type": "code",
   "execution_count": 4,
   "metadata": {},
   "outputs": [],
   "source": [
    "X = np.array(sequences)\n",
    "Y = np.array(action_class)"
   ]
  },
  {
   "cell_type": "code",
   "execution_count": 5,
   "metadata": {},
   "outputs": [
    {
     "data": {
      "text/plain": [
       "(2000, 30, 1662)"
      ]
     },
     "execution_count": 5,
     "metadata": {},
     "output_type": "execute_result"
    }
   ],
   "source": [
    "X.shape"
   ]
  },
  {
   "cell_type": "code",
   "execution_count": 6,
   "metadata": {},
   "outputs": [
    {
     "data": {
      "text/plain": [
       "(2000, 5)"
      ]
     },
     "execution_count": 6,
     "metadata": {},
     "output_type": "execute_result"
    }
   ],
   "source": [
    "Y.shape"
   ]
  },
  {
   "cell_type": "markdown",
   "metadata": {},
   "source": [
    "### Creating Training and Testing Sets"
   ]
  },
  {
   "cell_type": "code",
   "execution_count": 7,
   "metadata": {},
   "outputs": [],
   "source": [
    "X_train, X_test, Y_train, Y_test = train_test_split(X, Y, test_size=0.1, random_state=42)\n",
    "X_train, X_valid, = train_test_split(X_train, test_size=0.1, random_state=42)\n",
    "Y_train, Y_valid = train_test_split(Y_train, test_size=0.1, random_state=42)"
   ]
  },
  {
   "cell_type": "markdown",
   "metadata": {},
   "source": [
    "# Creating our LSTM model"
   ]
  },
  {
   "cell_type": "code",
   "execution_count": 8,
   "metadata": {},
   "outputs": [],
   "source": [
    "from sklearn.metrics import confusion_matrix\n",
    "from sklearn.metrics import classification_report\n",
    "import matplotlib.pyplot as plt\n",
    "import seaborn as sns"
   ]
  },
  {
   "cell_type": "code",
   "execution_count": 9,
   "metadata": {},
   "outputs": [],
   "source": [
    "Tensor_Board_2 = tf.keras.callbacks.TensorBoard(log_dir=os.path.join('Logs_2'))"
   ]
  },
  {
   "cell_type": "code",
   "execution_count": 10,
   "metadata": {},
   "outputs": [],
   "source": [
    "actions = np.array(list(labels.keys()))"
   ]
  },
  {
   "cell_type": "code",
   "execution_count": 11,
   "metadata": {},
   "outputs": [],
   "source": [
    "LSTM_Model = tf.keras.Sequential([\n",
    "    tf.keras.layers.LSTM(units=256, return_sequences=True, activation='relu', input_shape=(30, 1662)),\n",
    "    tf.keras.layers.LSTM(units=128, return_sequences=True, activation='relu'),\n",
    "    tf.keras.layers.LSTM(units=256, return_sequences=True, activation='relu'),\n",
    "    tf.keras.layers.LSTM(units=64, return_sequences=False, activation='relu'),\n",
    "    tf.keras.layers.Dense(units=5 , activation='softmax',)\n",
    "])"
   ]
  },
  {
   "cell_type": "code",
   "execution_count": 12,
   "metadata": {},
   "outputs": [],
   "source": [
    "LSTM_Model.compile(optimizer=tf.keras.optimizers.Adam(learning_rate=0.000001),\n",
    "                  loss='categorical_crossentropy',\n",
    "                  metrics=['categorical_accuracy'])"
   ]
  },
  {
   "cell_type": "code",
   "execution_count": 13,
   "metadata": {},
   "outputs": [
    {
     "data": {
      "text/plain": [
       "<KerasTensor: shape=(None, 5) dtype=float32 (created by layer 'dense')>"
      ]
     },
     "execution_count": 13,
     "metadata": {},
     "output_type": "execute_result"
    }
   ],
   "source": [
    "LSTM_Model.output"
   ]
  },
  {
   "cell_type": "code",
   "execution_count": 14,
   "metadata": {},
   "outputs": [],
   "source": [
    "class MyThresholdCallback(tf.keras.callbacks.Callback):\n",
    "    def __init__(self, threshold, loss):\n",
    "        super(MyThresholdCallback, self).__init__()\n",
    "        self.threshold = threshold\n",
    "        self.loss = loss\n",
    "\n",
    "    def on_epoch_end(self, epoch, logs=None): \n",
    "        val_acc = logs[\"val_categorical_accuracy\"]\n",
    "        acc = logs['categorical_accuracy']\n",
    "        loss = logs['loss']\n",
    "        val_loss = logs['val_loss']\n",
    "        if val_acc >= self.threshold and acc >= self.threshold and loss <= self.loss and val_loss <= self.loss:\n",
    "            self.model.stop_training = True"
   ]
  },
  {
   "cell_type": "code",
   "execution_count": 15,
   "metadata": {},
   "outputs": [
    {
     "name": "stdout",
     "output_type": "stream",
     "text": [
      "Epoch 1/1000\n",
      "1620/1620 [==============================] - 201s 122ms/step - loss: 1.5888 - categorical_accuracy: 0.3679 - val_loss: 1.5551 - val_categorical_accuracy: 0.4667\n",
      "Epoch 2/1000\n",
      "1620/1620 [==============================] - 191s 118ms/step - loss: 1.3229 - categorical_accuracy: 0.5006 - val_loss: 0.8054 - val_categorical_accuracy: 0.6167\n",
      "Epoch 3/1000\n",
      "1620/1620 [==============================] - 184s 113ms/step - loss: 0.6962 - categorical_accuracy: 0.7284 - val_loss: 0.5228 - val_categorical_accuracy: 0.8222\n",
      "Epoch 4/1000\n",
      "1620/1620 [==============================] - 185s 114ms/step - loss: 0.5275 - categorical_accuracy: 0.8086 - val_loss: 0.4761 - val_categorical_accuracy: 0.8389\n",
      "Epoch 5/1000\n",
      "1620/1620 [==============================] - 184s 113ms/step - loss: 0.3985 - categorical_accuracy: 0.8741 - val_loss: 0.3671 - val_categorical_accuracy: 0.8778\n",
      "Epoch 6/1000\n",
      "1620/1620 [==============================] - 185s 114ms/step - loss: 0.3349 - categorical_accuracy: 0.8963 - val_loss: 0.2659 - val_categorical_accuracy: 0.9333\n",
      "Epoch 7/1000\n",
      "1620/1620 [==============================] - 184s 114ms/step - loss: 0.3002 - categorical_accuracy: 0.9111 - val_loss: 0.2105 - val_categorical_accuracy: 0.9556\n",
      "Epoch 8/1000\n",
      "1620/1620 [==============================] - 191s 118ms/step - loss: 0.2685 - categorical_accuracy: 0.9198 - val_loss: 0.2363 - val_categorical_accuracy: 0.9333\n",
      "Epoch 9/1000\n",
      "1620/1620 [==============================] - 191s 118ms/step - loss: 0.2142 - categorical_accuracy: 0.9377 - val_loss: 0.2060 - val_categorical_accuracy: 0.9500\n",
      "Epoch 10/1000\n",
      "1620/1620 [==============================] - 181s 112ms/step - loss: 0.2209 - categorical_accuracy: 0.9352 - val_loss: 0.2591 - val_categorical_accuracy: 0.9278\n",
      "Epoch 11/1000\n",
      "1620/1620 [==============================] - 185s 114ms/step - loss: 0.1981 - categorical_accuracy: 0.9463 - val_loss: 0.2008 - val_categorical_accuracy: 0.9222\n",
      "Epoch 12/1000\n",
      "1620/1620 [==============================] - 183s 113ms/step - loss: 0.1870 - categorical_accuracy: 0.9457 - val_loss: 0.1380 - val_categorical_accuracy: 0.9833\n",
      "Epoch 13/1000\n",
      "1620/1620 [==============================] - 181s 112ms/step - loss: 0.1871 - categorical_accuracy: 0.9432 - val_loss: 0.1199 - val_categorical_accuracy: 0.9833\n",
      "Epoch 14/1000\n",
      "1620/1620 [==============================] - 181s 112ms/step - loss: 0.1654 - categorical_accuracy: 0.9512 - val_loss: 0.1318 - val_categorical_accuracy: 0.9722\n",
      "Epoch 15/1000\n",
      "1620/1620 [==============================] - 182s 112ms/step - loss: 0.1707 - categorical_accuracy: 0.9500 - val_loss: 0.3681 - val_categorical_accuracy: 0.8889\n",
      "Epoch 16/1000\n",
      "1620/1620 [==============================] - 182s 112ms/step - loss: 0.1518 - categorical_accuracy: 0.9593 - val_loss: 0.1146 - val_categorical_accuracy: 0.9833\n",
      "Epoch 17/1000\n",
      "1620/1620 [==============================] - 184s 114ms/step - loss: 0.1383 - categorical_accuracy: 0.9642 - val_loss: 0.1281 - val_categorical_accuracy: 0.9667\n",
      "Epoch 18/1000\n",
      "1620/1620 [==============================] - 183s 113ms/step - loss: 0.1715 - categorical_accuracy: 0.9574 - val_loss: 0.0986 - val_categorical_accuracy: 0.9833\n",
      "Epoch 19/1000\n",
      "1620/1620 [==============================] - 183s 113ms/step - loss: 0.1200 - categorical_accuracy: 0.9660 - val_loss: 0.1253 - val_categorical_accuracy: 0.9722\n",
      "Epoch 20/1000\n",
      "1620/1620 [==============================] - 181s 112ms/step - loss: 0.1077 - categorical_accuracy: 0.9679 - val_loss: 0.1234 - val_categorical_accuracy: 0.9667\n",
      "Epoch 21/1000\n",
      "1620/1620 [==============================] - 182s 113ms/step - loss: 0.1388 - categorical_accuracy: 0.9648 - val_loss: 0.0811 - val_categorical_accuracy: 0.9889\n",
      "Epoch 22/1000\n",
      "1620/1620 [==============================] - 183s 113ms/step - loss: 0.1200 - categorical_accuracy: 0.9698 - val_loss: 0.0794 - val_categorical_accuracy: 0.9889\n",
      "Epoch 23/1000\n",
      "1620/1620 [==============================] - 184s 114ms/step - loss: 0.1057 - categorical_accuracy: 0.9753 - val_loss: 0.1382 - val_categorical_accuracy: 0.9556\n",
      "Epoch 24/1000\n",
      "1620/1620 [==============================] - 245s 151ms/step - loss: 0.1252 - categorical_accuracy: 0.9704 - val_loss: 0.1090 - val_categorical_accuracy: 0.9722\n",
      "Epoch 25/1000\n",
      "1620/1620 [==============================] - 229s 141ms/step - loss: 0.0856 - categorical_accuracy: 0.9802 - val_loss: 0.0583 - val_categorical_accuracy: 0.9833\n"
     ]
    }
   ],
   "source": [
    "my_callback = MyThresholdCallback(threshold=0.95, loss=0.1)\n",
    "LSTM_Model_Hist = LSTM_Model.fit(x=X_train, y=Y_train, validation_data=(X_valid, Y_valid), epochs=1000, callbacks=[my_callback], batch_size=1)"
   ]
  },
  {
   "cell_type": "markdown",
   "metadata": {},
   "source": [
    "### Saving the Model"
   ]
  },
  {
   "cell_type": "markdown",
   "metadata": {},
   "source": [
    "LSTM_Model.save('LSTM_Model_Final_2.h5', overwrite=True)"
   ]
  },
  {
   "cell_type": "code",
   "execution_count": 16,
   "metadata": {},
   "outputs": [],
   "source": [
    "from sklearn.model_selection import KFold\n",
    "from sklearn.metrics import accuracy_score"
   ]
  },
  {
   "cell_type": "code",
   "execution_count": 17,
   "metadata": {},
   "outputs": [],
   "source": [
    "model = tf.keras.models.load_model('C:\\\\Users\\\\Tyron\\\\Sign_Language_Detection\\\\SASL_Sign_Language_Detection\\\\LSTM_Model_Final_2.h5')"
   ]
  },
  {
   "cell_type": "code",
   "execution_count": 18,
   "metadata": {},
   "outputs": [
    {
     "name": "stdout",
     "output_type": "stream",
     "text": [
      "Model: \"sequential_1\"\n",
      "_________________________________________________________________\n",
      " Layer (type)                Output Shape              Param #   \n",
      "=================================================================\n",
      " lstm_4 (LSTM)               (None, 30, 256)           1965056   \n",
      "                                                                 \n",
      " lstm_5 (LSTM)               (None, 30, 128)           197120    \n",
      "                                                                 \n",
      " lstm_6 (LSTM)               (None, 30, 256)           394240    \n",
      "                                                                 \n",
      " lstm_7 (LSTM)               (None, 64)                82176     \n",
      "                                                                 \n",
      " dense_1 (Dense)             (None, 5)                 325       \n",
      "                                                                 \n",
      "=================================================================\n",
      "Total params: 2638917 (10.07 MB)\n",
      "Trainable params: 2638917 (10.07 MB)\n",
      "Non-trainable params: 0 (0.00 Byte)\n",
      "_________________________________________________________________\n"
     ]
    }
   ],
   "source": [
    "model.summary()"
   ]
  },
  {
   "cell_type": "markdown",
   "metadata": {},
   "source": [
    "### Testing the Model"
   ]
  },
  {
   "cell_type": "code",
   "execution_count": 60,
   "metadata": {},
   "outputs": [],
   "source": [
    "import matplotlib.pyplot as plt\n",
    "import seaborn as sns"
   ]
  },
  {
   "cell_type": "code",
   "execution_count": 61,
   "metadata": {},
   "outputs": [
    {
     "name": "stdout",
     "output_type": "stream",
     "text": [
      "7/7 [==============================] - 1s 79ms/step\n"
     ]
    }
   ],
   "source": [
    "test_predictions = model.predict(X_test)"
   ]
  },
  {
   "cell_type": "code",
   "execution_count": 62,
   "metadata": {},
   "outputs": [],
   "source": [
    "y_pred = []\n",
    "y_true = []\n",
    "\n",
    "for prediction in test_predictions:\n",
    "    arg_max = np.argmax(prediction)\n",
    "    y_pred.append(arg_max)\n",
    "\n",
    "for y in Y_test:\n",
    "    arg_max = np.argmax(y)\n",
    "    y_true.append(arg_max)"
   ]
  },
  {
   "cell_type": "markdown",
   "metadata": {},
   "source": [
    "### Confusion Matrix"
   ]
  },
  {
   "cell_type": "code",
   "execution_count": 63,
   "metadata": {},
   "outputs": [],
   "source": [
    "from sklearn.metrics import confusion_matrix\n",
    "import pandas as pd"
   ]
  },
  {
   "cell_type": "code",
   "execution_count": 65,
   "metadata": {},
   "outputs": [],
   "source": [
    "conf_matrix = confusion_matrix(y_true=y_true, y_pred=y_pred)"
   ]
  },
  {
   "cell_type": "code",
   "execution_count": 66,
   "metadata": {},
   "outputs": [
    {
     "data": {
      "text/plain": [
       "array([[38,  0,  0,  0,  1],\n",
       "       [ 0, 36,  0,  2,  0],\n",
       "       [ 0,  0, 41,  0,  0],\n",
       "       [ 0,  0,  1, 36,  0],\n",
       "       [ 3,  0,  1,  0, 41]], dtype=int64)"
      ]
     },
     "execution_count": 66,
     "metadata": {},
     "output_type": "execute_result"
    }
   ],
   "source": [
    "conf_matrix"
   ]
  },
  {
   "cell_type": "code",
   "execution_count": 68,
   "metadata": {},
   "outputs": [],
   "source": [
    "xticks = ['Hello', 'How are you', 'Thanks', 'Braai', 'Pap']\n",
    "yticks = ['Hello', 'How are you', 'Thanks', 'Braai', 'Pap']"
   ]
  },
  {
   "cell_type": "code",
   "execution_count": 70,
   "metadata": {},
   "outputs": [
    {
     "data": {
      "text/plain": [
       "<AxesSubplot: >"
      ]
     },
     "execution_count": 70,
     "metadata": {},
     "output_type": "execute_result"
    },
    {
     "data": {
      "image/png": "[encoded data removed]",
      "text/plain": [
       "<Figure size 640x480 with 2 Axes>"
      ]
     },
     "metadata": {},
     "output_type": "display_data"
    }
   ],
   "source": [
    "sns.heatmap(data=conf_matrix, xticklabels=xticks, yticklabels=yticks, annot=True)"
   ]
  },
  {
   "cell_type": "code",
   "execution_count": 83,
   "metadata": {},
   "outputs": [],
   "source": [
    "from sklearn.metrics import accuracy_score"
   ]
  },
  {
   "cell_type": "code",
   "execution_count": 85,
   "metadata": {},
   "outputs": [
    {
     "name": "stdout",
     "output_type": "stream",
     "text": [
      "The Accuracy Score of the Model is : 0.96\n"
     ]
    }
   ],
   "source": [
    "acc_score = accuracy_score(y_true=y_true, y_pred=y_pred)\n",
    "print('The Accuracy Score of the Model is : {}'.format(acc_score))"
   ]
  }
 ],
 "metadata": {
  "kernelspec": {
   "display_name": "Python 3",
   "language": "python",
   "name": "python3"
  },
  "language_info": {
   "codemirror_mode": {
    "name": "ipython",
    "version": 3
   },
   "file_extension": ".py",
   "mimetype": "text/x-python",
   "name": "python",
   "nbconvert_exporter": "python",
   "pygments_lexer": "ipython3",
   "version": "3.10.8"
  },
  "orig_nbformat": 4
 },
 "nbformat": 4,
 "nbformat_minor": 2
}
