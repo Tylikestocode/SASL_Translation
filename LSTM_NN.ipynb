{
 "cells": [
  {
   "cell_type": "code",
   "execution_count": 1,
   "metadata": {},
   "outputs": [],
   "source": [
    "from sklearn.model_selection import train_test_split\n",
    "import tensorflow as tf\n",
    "import numpy as np\n",
    "import os"
   ]
  },
  {
   "cell_type": "markdown",
   "metadata": {},
   "source": [
    "### Loading the Data from the Data Folder"
   ]
  },
  {
   "cell_type": "code",
   "execution_count": 2,
   "metadata": {},
   "outputs": [],
   "source": [
    "labels = {'Hello' : 0, 'Thanks': 1}"
   ]
  },
  {
   "cell_type": "code",
   "execution_count": 3,
   "metadata": {},
   "outputs": [],
   "source": [
    "action_class = []\n",
    "sequences = []\n",
    "classes = ['Hello', 'Thanks']\n",
    "no_sequences = 60\n",
    "sequence_length = 30\n",
    "\n",
    "for action in classes:\n",
    "    for sequence in range(no_sequences):\n",
    "        window = []\n",
    "        for frame in range(sequence_length):\n",
    "            result = np.load(os.path.join('C:\\\\Users\\\\Tyron\\\\Sign_Language_Detection\\\\SASL_Sign_Language_Detection\\\\DATA', action, str(sequence), '{}.npy'.format(frame)))\n",
    "            window.append(result)\n",
    "        sequences.append(window)\n",
    "        action_class.append(labels[action])"
   ]
  },
  {
   "cell_type": "code",
   "execution_count": 4,
   "metadata": {},
   "outputs": [],
   "source": [
    "X = np.array(sequences)\n",
    "Y = np.array(action_class)"
   ]
  },
  {
   "cell_type": "code",
   "execution_count": 5,
   "metadata": {},
   "outputs": [
    {
     "data": {
      "text/plain": [
       "(120, 30, 1662)"
      ]
     },
     "execution_count": 5,
     "metadata": {},
     "output_type": "execute_result"
    }
   ],
   "source": [
    "X.shape"
   ]
  },
  {
   "cell_type": "code",
   "execution_count": 6,
   "metadata": {},
   "outputs": [
    {
     "data": {
      "text/plain": [
       "(120,)"
      ]
     },
     "execution_count": 6,
     "metadata": {},
     "output_type": "execute_result"
    }
   ],
   "source": [
    "Y.shape"
   ]
  },
  {
   "cell_type": "markdown",
   "metadata": {},
   "source": [
    "### Creating Training and Testing Sets"
   ]
  },
  {
   "cell_type": "code",
   "execution_count": 7,
   "metadata": {},
   "outputs": [],
   "source": [
    "X_train, X_test, Y_train, Y_test = train_test_split(X, Y, test_size=0.1, random_state=42)"
   ]
  },
  {
   "cell_type": "code",
   "execution_count": 8,
   "metadata": {},
   "outputs": [
    {
     "data": {
      "text/plain": [
       "(108,)"
      ]
     },
     "execution_count": 8,
     "metadata": {},
     "output_type": "execute_result"
    }
   ],
   "source": [
    "Y_train.shape"
   ]
  },
  {
   "cell_type": "markdown",
   "metadata": {},
   "source": [
    "# Creating our LTC model"
   ]
  },
  {
   "cell_type": "code",
   "execution_count": 9,
   "metadata": {},
   "outputs": [],
   "source": [
    "from ncps.tf import LTC\n",
    "from ncps import wirings\n",
    "from sklearn.metrics import confusion_matrix\n",
    "from sklearn.metrics import classification_report\n",
    "import matplotlib.pyplot as plt\n",
    "import seaborn as sns"
   ]
  },
  {
   "cell_type": "code",
   "execution_count": 10,
   "metadata": {},
   "outputs": [],
   "source": [
    "Tensor_Board_2 = tf.keras.callbacks.TensorBoard(log_dir=os.path.join('Logs_2'))"
   ]
  },
  {
   "cell_type": "code",
   "execution_count": 11,
   "metadata": {},
   "outputs": [],
   "source": [
    "LSTM_Model = tf.keras.Sequential([\n",
    "    tf.keras.Input(shape=(30, 1662)),\n",
    "    tf.keras.layers.LSTM(32 ,activation='relu', return_sequences=True),\n",
    "    tf.keras.layers.LSTM(32 ,activation='relu'),\n",
    "    tf.keras.layers.Dense(16 ,activation='relu'),\n",
    "    tf.keras.layers.Dense(1, activation='sigmoid')\n",
    "])"
   ]
  },
  {
   "cell_type": "code",
   "execution_count": 12,
   "metadata": {},
   "outputs": [],
   "source": [
    "LSTM_Model.compile(optimizer=tf.keras.optimizers.Adam(learning_rate=0.001),\n",
    "                  loss=tf.keras.losses.BinaryCrossentropy(),\n",
    "                  metrics=['accuracy'])"
   ]
  },
  {
   "cell_type": "code",
   "execution_count": 13,
   "metadata": {},
   "outputs": [
    {
     "name": "stdout",
     "output_type": "stream",
     "text": [
      "Epoch 1/100\n",
      "4/4 [==============================] - 3s 28ms/step - loss: 0.8243 - accuracy: 0.5185\n",
      "Epoch 2/100\n",
      "4/4 [==============================] - 0s 26ms/step - loss: 0.7327 - accuracy: 0.5185\n",
      "Epoch 3/100\n",
      "4/4 [==============================] - 0s 26ms/step - loss: 0.7104 - accuracy: 0.4537\n",
      "Epoch 4/100\n",
      "4/4 [==============================] - 0s 27ms/step - loss: 0.9529 - accuracy: 0.5278\n",
      "Epoch 5/100\n",
      "4/4 [==============================] - 0s 27ms/step - loss: 0.6906 - accuracy: 0.5648\n",
      "Epoch 6/100\n",
      "4/4 [==============================] - 0s 27ms/step - loss: 0.7031 - accuracy: 0.4815\n",
      "Epoch 7/100\n",
      "4/4 [==============================] - 0s 28ms/step - loss: 0.6932 - accuracy: 0.4815\n",
      "Epoch 8/100\n",
      "4/4 [==============================] - 0s 34ms/step - loss: 0.6929 - accuracy: 0.5278\n",
      "Epoch 9/100\n",
      "4/4 [==============================] - 0s 29ms/step - loss: 0.6915 - accuracy: 0.5185\n",
      "Epoch 10/100\n",
      "4/4 [==============================] - 0s 29ms/step - loss: 0.6898 - accuracy: 0.5185\n",
      "Epoch 11/100\n",
      "4/4 [==============================] - 0s 28ms/step - loss: 0.7186 - accuracy: 0.5185\n",
      "Epoch 12/100\n",
      "4/4 [==============================] - 0s 27ms/step - loss: 0.6950 - accuracy: 0.4815\n",
      "Epoch 13/100\n",
      "4/4 [==============================] - 0s 27ms/step - loss: 0.6910 - accuracy: 0.4907\n",
      "Epoch 14/100\n",
      "4/4 [==============================] - 0s 28ms/step - loss: 0.6865 - accuracy: 0.5833\n",
      "Epoch 15/100\n",
      "4/4 [==============================] - 0s 28ms/step - loss: 0.6793 - accuracy: 0.5185\n",
      "Epoch 16/100\n",
      "4/4 [==============================] - 0s 29ms/step - loss: 0.6774 - accuracy: 0.5185\n",
      "Epoch 17/100\n",
      "4/4 [==============================] - 0s 28ms/step - loss: 0.6671 - accuracy: 0.5185\n",
      "Epoch 18/100\n",
      "4/4 [==============================] - 0s 28ms/step - loss: 0.6488 - accuracy: 0.5185\n",
      "Epoch 19/100\n",
      "4/4 [==============================] - 0s 28ms/step - loss: 0.6181 - accuracy: 0.5185\n",
      "Epoch 20/100\n",
      "4/4 [==============================] - 0s 27ms/step - loss: 0.5827 - accuracy: 0.6111\n",
      "Epoch 21/100\n",
      "4/4 [==============================] - 0s 27ms/step - loss: 0.6318 - accuracy: 0.6389\n",
      "Epoch 22/100\n",
      "4/4 [==============================] - 0s 29ms/step - loss: 0.6227 - accuracy: 0.8148\n",
      "Epoch 23/100\n",
      "4/4 [==============================] - 0s 28ms/step - loss: 0.5353 - accuracy: 0.5556\n",
      "Epoch 24/100\n",
      "4/4 [==============================] - 0s 27ms/step - loss: 0.5401 - accuracy: 0.8889\n",
      "Epoch 25/100\n",
      "4/4 [==============================] - 0s 30ms/step - loss: 0.4457 - accuracy: 0.7778\n",
      "Epoch 26/100\n",
      "4/4 [==============================] - 0s 27ms/step - loss: 0.3886 - accuracy: 0.8611\n",
      "Epoch 27/100\n",
      "4/4 [==============================] - 0s 27ms/step - loss: 0.2762 - accuracy: 0.9352\n",
      "Epoch 28/100\n",
      "4/4 [==============================] - 0s 28ms/step - loss: 0.2736 - accuracy: 0.8981\n",
      "Epoch 29/100\n",
      "4/4 [==============================] - 0s 28ms/step - loss: 0.2981 - accuracy: 0.8981\n",
      "Epoch 30/100\n",
      "4/4 [==============================] - 0s 28ms/step - loss: 0.2648 - accuracy: 0.8796\n",
      "Epoch 31/100\n",
      "4/4 [==============================] - 0s 27ms/step - loss: 0.1261 - accuracy: 0.9815\n",
      "Epoch 32/100\n",
      "4/4 [==============================] - 0s 28ms/step - loss: 0.1240 - accuracy: 1.0000\n",
      "Epoch 33/100\n",
      "4/4 [==============================] - 0s 28ms/step - loss: 0.0902 - accuracy: 0.9815\n",
      "Epoch 34/100\n",
      "4/4 [==============================] - 0s 30ms/step - loss: 0.0332 - accuracy: 0.9907\n",
      "Epoch 35/100\n",
      "4/4 [==============================] - 0s 28ms/step - loss: 0.7833 - accuracy: 0.8519\n",
      "Epoch 36/100\n",
      "4/4 [==============================] - 0s 28ms/step - loss: 0.8250 - accuracy: 0.6759\n",
      "Epoch 37/100\n",
      "4/4 [==============================] - 0s 27ms/step - loss: 0.3496 - accuracy: 0.8241\n",
      "Epoch 38/100\n",
      "4/4 [==============================] - 0s 30ms/step - loss: 0.3005 - accuracy: 0.9537\n",
      "Epoch 39/100\n",
      "4/4 [==============================] - 0s 28ms/step - loss: 0.2406 - accuracy: 0.9815\n",
      "Epoch 40/100\n",
      "4/4 [==============================] - 0s 30ms/step - loss: 0.1668 - accuracy: 0.9722\n",
      "Epoch 41/100\n",
      "4/4 [==============================] - 0s 28ms/step - loss: 0.0714 - accuracy: 0.9907\n",
      "Epoch 42/100\n",
      "4/4 [==============================] - 0s 28ms/step - loss: 0.0283 - accuracy: 0.9907\n",
      "Epoch 43/100\n",
      "4/4 [==============================] - 0s 26ms/step - loss: 0.2975 - accuracy: 0.9259\n",
      "Epoch 44/100\n",
      "4/4 [==============================] - 0s 42ms/step - loss: 0.6417 - accuracy: 0.7870\n",
      "Epoch 45/100\n",
      "4/4 [==============================] - 0s 29ms/step - loss: 0.6506 - accuracy: 0.7593\n",
      "Epoch 46/100\n",
      "4/4 [==============================] - 0s 30ms/step - loss: 0.3370 - accuracy: 0.8611\n",
      "Epoch 47/100\n",
      "4/4 [==============================] - 0s 28ms/step - loss: 0.5327 - accuracy: 0.7130\n",
      "Epoch 48/100\n",
      "4/4 [==============================] - 0s 28ms/step - loss: 0.2836 - accuracy: 0.9722\n",
      "Epoch 49/100\n",
      "4/4 [==============================] - 0s 32ms/step - loss: 0.2930 - accuracy: 0.8981\n",
      "Epoch 50/100\n",
      "4/4 [==============================] - 0s 27ms/step - loss: 0.2132 - accuracy: 0.9907\n",
      "Epoch 51/100\n",
      "4/4 [==============================] - 0s 28ms/step - loss: 0.2173 - accuracy: 0.9722\n",
      "Epoch 52/100\n",
      "4/4 [==============================] - 0s 28ms/step - loss: 0.1964 - accuracy: 0.9815\n",
      "Epoch 53/100\n",
      "4/4 [==============================] - 0s 31ms/step - loss: 0.1929 - accuracy: 0.9815\n",
      "Epoch 54/100\n",
      "4/4 [==============================] - 0s 28ms/step - loss: 0.1637 - accuracy: 1.0000\n",
      "Epoch 55/100\n",
      "4/4 [==============================] - 0s 30ms/step - loss: 0.1551 - accuracy: 0.9907\n",
      "Epoch 56/100\n",
      "4/4 [==============================] - 0s 28ms/step - loss: 0.1326 - accuracy: 0.9907\n",
      "Epoch 57/100\n",
      "4/4 [==============================] - 0s 31ms/step - loss: 0.1156 - accuracy: 1.0000\n",
      "Epoch 58/100\n",
      "4/4 [==============================] - 0s 29ms/step - loss: 0.0981 - accuracy: 1.0000\n",
      "Epoch 59/100\n",
      "4/4 [==============================] - 0s 27ms/step - loss: 0.0783 - accuracy: 0.9907\n",
      "Epoch 60/100\n",
      "4/4 [==============================] - 0s 28ms/step - loss: 0.0582 - accuracy: 0.9907\n",
      "Epoch 61/100\n",
      "4/4 [==============================] - 0s 29ms/step - loss: 0.0291 - accuracy: 0.9907\n",
      "Epoch 62/100\n",
      "4/4 [==============================] - 0s 28ms/step - loss: 0.0149 - accuracy: 0.9907\n",
      "Epoch 63/100\n",
      "4/4 [==============================] - 0s 26ms/step - loss: 0.0102 - accuracy: 0.9907\n",
      "Epoch 64/100\n",
      "4/4 [==============================] - 0s 28ms/step - loss: 0.0059 - accuracy: 1.0000\n",
      "Epoch 65/100\n",
      "4/4 [==============================] - 0s 30ms/step - loss: 0.0420 - accuracy: 0.9907\n",
      "Epoch 66/100\n",
      "4/4 [==============================] - 0s 28ms/step - loss: 0.2954 - accuracy: 0.9444\n",
      "Epoch 67/100\n",
      "4/4 [==============================] - 0s 43ms/step - loss: 0.7627 - accuracy: 0.8056\n",
      "Epoch 68/100\n",
      "4/4 [==============================] - 0s 27ms/step - loss: 0.3304 - accuracy: 0.8611\n",
      "Epoch 69/100\n",
      "4/4 [==============================] - 0s 30ms/step - loss: 0.2856 - accuracy: 0.8519\n",
      "Epoch 70/100\n",
      "4/4 [==============================] - 0s 26ms/step - loss: 0.1616 - accuracy: 0.9352\n",
      "Epoch 71/100\n",
      "4/4 [==============================] - 0s 27ms/step - loss: 0.1844 - accuracy: 0.9352\n",
      "Epoch 72/100\n",
      "4/4 [==============================] - 0s 28ms/step - loss: 0.0805 - accuracy: 0.9907\n",
      "Epoch 73/100\n",
      "4/4 [==============================] - 0s 30ms/step - loss: 0.1279 - accuracy: 0.9537\n",
      "Epoch 74/100\n",
      "4/4 [==============================] - 0s 29ms/step - loss: 0.0513 - accuracy: 1.0000\n",
      "Epoch 75/100\n",
      "4/4 [==============================] - 0s 29ms/step - loss: 0.0639 - accuracy: 0.9907\n",
      "Epoch 76/100\n",
      "4/4 [==============================] - 0s 29ms/step - loss: 0.0350 - accuracy: 1.0000\n",
      "Epoch 77/100\n",
      "4/4 [==============================] - 0s 30ms/step - loss: 0.0335 - accuracy: 1.0000\n",
      "Epoch 78/100\n",
      "4/4 [==============================] - 0s 47ms/step - loss: 0.0276 - accuracy: 0.9907\n",
      "Epoch 79/100\n",
      "4/4 [==============================] - 0s 29ms/step - loss: 0.0222 - accuracy: 1.0000\n",
      "Epoch 80/100\n",
      "4/4 [==============================] - 0s 31ms/step - loss: 0.0181 - accuracy: 1.0000\n",
      "Epoch 81/100\n",
      "4/4 [==============================] - 0s 31ms/step - loss: 0.0131 - accuracy: 1.0000\n",
      "Epoch 82/100\n",
      "4/4 [==============================] - 0s 31ms/step - loss: 0.0130 - accuracy: 1.0000\n",
      "Epoch 83/100\n",
      "4/4 [==============================] - 0s 30ms/step - loss: 0.0093 - accuracy: 1.0000\n",
      "Epoch 84/100\n",
      "4/4 [==============================] - 0s 27ms/step - loss: 0.0108 - accuracy: 1.0000\n",
      "Epoch 85/100\n",
      "4/4 [==============================] - 0s 30ms/step - loss: 0.0080 - accuracy: 1.0000\n",
      "Epoch 86/100\n",
      "4/4 [==============================] - 0s 32ms/step - loss: 0.0079 - accuracy: 1.0000\n",
      "Epoch 87/100\n",
      "4/4 [==============================] - 0s 45ms/step - loss: 0.0070 - accuracy: 1.0000\n",
      "Epoch 88/100\n",
      "4/4 [==============================] - 0s 33ms/step - loss: 0.0049 - accuracy: 1.0000\n",
      "Epoch 89/100\n",
      "4/4 [==============================] - 0s 31ms/step - loss: 0.0058 - accuracy: 1.0000\n",
      "Epoch 90/100\n",
      "4/4 [==============================] - 0s 30ms/step - loss: 0.0049 - accuracy: 1.0000\n",
      "Epoch 91/100\n",
      "4/4 [==============================] - 0s 29ms/step - loss: 0.0034 - accuracy: 1.0000\n",
      "Epoch 92/100\n",
      "4/4 [==============================] - 0s 31ms/step - loss: 0.0030 - accuracy: 1.0000\n",
      "Epoch 93/100\n",
      "4/4 [==============================] - 0s 29ms/step - loss: 0.0029 - accuracy: 1.0000\n",
      "Epoch 94/100\n",
      "4/4 [==============================] - 0s 28ms/step - loss: 0.0024 - accuracy: 1.0000\n",
      "Epoch 95/100\n",
      "4/4 [==============================] - 0s 28ms/step - loss: 0.0019 - accuracy: 1.0000\n",
      "Epoch 96/100\n",
      "4/4 [==============================] - 0s 33ms/step - loss: 0.0015 - accuracy: 1.0000\n",
      "Epoch 97/100\n",
      "4/4 [==============================] - 0s 29ms/step - loss: 0.0012 - accuracy: 1.0000\n",
      "Epoch 98/100\n",
      "4/4 [==============================] - 0s 45ms/step - loss: 8.6710e-04 - accuracy: 1.0000\n",
      "Epoch 99/100\n",
      "4/4 [==============================] - 0s 28ms/step - loss: 9.0031e-04 - accuracy: 1.0000\n",
      "Epoch 100/100\n",
      "4/4 [==============================] - 0s 28ms/step - loss: 4.5823e-04 - accuracy: 1.0000\n"
     ]
    }
   ],
   "source": [
    "LSTM_Model_Hist = LSTM_Model.fit(x=X_train, y=Y_train, epochs=100, callbacks=[Tensor_Board_2])"
   ]
  },
  {
   "cell_type": "markdown",
   "metadata": {},
   "source": [
    "### Saving the Model"
   ]
  },
  {
   "cell_type": "code",
   "execution_count": 15,
   "metadata": {},
   "outputs": [],
   "source": [
    "LSTM_Model.save('LSTM_SIGN_LANGUAGE_DETECTION_DEMO.h5')"
   ]
  }
 ],
 "metadata": {
  "kernelspec": {
   "display_name": "Python 3",
   "language": "python",
   "name": "python3"
  },
  "language_info": {
   "codemirror_mode": {
    "name": "ipython",
    "version": 3
   },
   "file_extension": ".py",
   "mimetype": "text/x-python",
   "name": "python",
   "nbconvert_exporter": "python",
   "pygments_lexer": "ipython3",
   "version": "3.10.8"
  },
  "orig_nbformat": 4
 },
 "nbformat": 4,
 "nbformat_minor": 2
}
