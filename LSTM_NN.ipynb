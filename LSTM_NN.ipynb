{
 "cells": [
  {
   "cell_type": "code",
   "execution_count": null,
   "metadata": {},
   "outputs": [],
   "source": [
    "from sklearn.model_selection import train_test_split\n",
    "import tensorflow as tf\n",
    "import numpy as np\n",
    "import os"
   ]
  },
  {
   "cell_type": "markdown",
   "metadata": {},
   "source": [
    "### Loading the Data from the Data Folder"
   ]
  },
  {
   "cell_type": "code",
   "execution_count": null,
   "metadata": {},
   "outputs": [],
   "source": [
    "labels = {'Hello' : 0, 'How are you': 1, 'Thanks': 2, 'Braai' : 3, 'Pap' : 4}"
   ]
  },
  {
   "cell_type": "code",
   "execution_count": null,
   "metadata": {},
   "outputs": [],
   "source": [
    "action_class = []\n",
    "sequences = []\n",
    "classes = ['Hello', 'How are you', 'Thanks', 'Braai', 'Pap']\n",
    "no_sequences = 400\n",
    "sequence_length = 30\n",
    "\n",
    "for action in classes:\n",
    "    for sequence in range(no_sequences):\n",
    "        window = []\n",
    "        for frame in range(sequence_length):\n",
    "            result = np.load(os.path.join('C:\\\\Users\\\\Tyron\\\\Sign_Language_Detection\\\\SASL_Sign_Language_Detection\\\\DATA', action, str(sequence), '{}.npy'.format(frame)))\n",
    "            window.append(result)\n",
    "        sequences.append(window)\n",
    "        if action == 'Hello':\n",
    "                action_class.append(np.array([1, 0, 0, 0, 0]))\n",
    "        elif action == 'How are you':\n",
    "                action_class.append(np.array([0, 1, 0, 0, 0]))\n",
    "        elif action == 'Thanks':\n",
    "                action_class.append(np.array([0, 0, 1, 0, 0]))\n",
    "        elif action == 'Braai':\n",
    "                action_class.append(np.array([0, 0, 0, 1, 0]))\n",
    "        elif action == 'Pap':\n",
    "                action_class.append(np.array([0, 0, 0, 0, 1]))"
   ]
  },
  {
   "cell_type": "code",
   "execution_count": null,
   "metadata": {},
   "outputs": [],
   "source": [
    "X = np.array(sequences)\n",
    "Y = np.array(action_class)"
   ]
  },
  {
   "cell_type": "code",
   "execution_count": null,
   "metadata": {},
   "outputs": [],
   "source": [
    "X.shape"
   ]
  },
  {
   "cell_type": "code",
   "execution_count": null,
   "metadata": {},
   "outputs": [],
   "source": [
    "Y.shape"
   ]
  },
  {
   "cell_type": "markdown",
   "metadata": {},
   "source": [
    "### Creating Training and Testing Sets"
   ]
  },
  {
   "cell_type": "code",
   "execution_count": null,
   "metadata": {},
   "outputs": [],
   "source": [
    "X_train, X_test, Y_train, Y_test = train_test_split(X, Y, test_size=0.1, random_state=42)\n",
    "X_train, X_valid, = train_test_split(X_train, test_size=0.1, random_state=42)\n",
    "Y_train, Y_valid = train_test_split(Y_train, test_size=0.1, random_state=42)"
   ]
  },
  {
   "cell_type": "markdown",
   "metadata": {},
   "source": [
    "# Creating our LSTM model"
   ]
  },
  {
   "cell_type": "code",
   "execution_count": null,
   "metadata": {},
   "outputs": [],
   "source": [
    "LSTM_Model = tf.keras.Sequential([\n",
    "    tf.keras.layers.LSTM(units=256, return_sequences=True, activation='relu', input_shape=(30, 1662)),\n",
    "    tf.keras.layers.LSTM(units=128, return_sequences=True, activation='relu'),\n",
    "    tf.keras.layers.LSTM(units=256, return_sequences=True, activation='relu'),\n",
    "    tf.keras.layers.LSTM(units=64, return_sequences=False, activation='relu'),\n",
    "    tf.keras.layers.Dense(units=5 , activation='softmax',)\n",
    "])"
   ]
  },
  {
   "cell_type": "code",
   "execution_count": null,
   "metadata": {},
   "outputs": [],
   "source": [
    "LSTM_Model.compile(optimizer=tf.keras.optimizers.Adam(learning_rate=0.000001),\n",
    "                  loss='categorical_crossentropy',\n",
    "                  metrics=['categorical_accuracy'])"
   ]
  },
  {
   "cell_type": "markdown",
   "metadata": {},
   "source": [
    "### Custom Callback to stop training after a certain threshold value"
   ]
  },
  {
   "cell_type": "code",
   "execution_count": null,
   "metadata": {},
   "outputs": [],
   "source": [
    "class MyThresholdCallback(tf.keras.callbacks.Callback):\n",
    "    def __init__(self, threshold, loss):\n",
    "        super(MyThresholdCallback, self).__init__()\n",
    "        self.threshold = threshold\n",
    "        self.loss = loss\n",
    "\n",
    "    def on_epoch_end(self, epoch, logs=None): \n",
    "        val_acc = logs[\"val_categorical_accuracy\"]\n",
    "        acc = logs['categorical_accuracy']\n",
    "        loss = logs['loss']\n",
    "        val_loss = logs['val_loss']\n",
    "        if val_acc >= self.threshold and acc >= self.threshold and loss <= self.loss and val_loss <= self.loss:\n",
    "            self.model.stop_training = True"
   ]
  },
  {
   "cell_type": "markdown",
   "metadata": {},
   "source": [
    "### Training our Model"
   ]
  },
  {
   "cell_type": "code",
   "execution_count": null,
   "metadata": {},
   "outputs": [],
   "source": [
    "my_callback = MyThresholdCallback(threshold=0.95, loss=0.1)\n",
    "LSTM_Model_Hist = LSTM_Model.fit(x=X_train, y=Y_train, validation_data=(X_valid, Y_valid), epochs=1000, callbacks=[my_callback], batch_size=1)"
   ]
  },
  {
   "cell_type": "markdown",
   "metadata": {},
   "source": [
    "### Saving the Model"
   ]
  },
  {
   "cell_type": "code",
   "execution_count": null,
   "metadata": {},
   "outputs": [],
   "source": [
    "LSTM_Model.save('LSTM_Model_Final_2.h5', overwrite=True)"
   ]
  },
  {
   "cell_type": "markdown",
   "metadata": {},
   "source": [
    "### Testing Model Accuracy"
   ]
  },
  {
   "cell_type": "code",
   "execution_count": null,
   "metadata": {},
   "outputs": [],
   "source": [
    "from sklearn.metrics import accuracy_score"
   ]
  },
  {
   "cell_type": "code",
   "execution_count": null,
   "metadata": {},
   "outputs": [],
   "source": [
    "model = tf.keras.models.load_model('C:\\\\Users\\\\Tyron\\\\Sign_Language_Detection\\\\SASL_Sign_Language_Detection\\\\LSTM_Model_Final_2.h5')"
   ]
  },
  {
   "cell_type": "code",
   "execution_count": null,
   "metadata": {},
   "outputs": [],
   "source": [
    "predictions = model.predict(X_test)"
   ]
  },
  {
   "cell_type": "code",
   "execution_count": null,
   "metadata": {},
   "outputs": [],
   "source": [
    "y_pred = []\n",
    "for x in predictions:\n",
    "    pred_arg = np.argmax(x)\n",
    "    y_pred.append(pred_arg)"
   ]
  },
  {
   "cell_type": "code",
   "execution_count": null,
   "metadata": {},
   "outputs": [],
   "source": [
    "y_pred = np.array(y_pred)"
   ]
  },
  {
   "cell_type": "code",
   "execution_count": null,
   "metadata": {},
   "outputs": [],
   "source": [
    "y_true = []\n",
    "for x in range(0, len(Y_test)):\n",
    "    y_arg = np.argmax(Y_test[x])\n",
    "    y_true.append(y_arg)\n",
    "\n",
    "y_true = np.array(y_true)"
   ]
  },
  {
   "cell_type": "code",
   "execution_count": null,
   "metadata": {},
   "outputs": [],
   "source": [
    "acc_score = accuracy_score(y_true=y_true, y_pred=y_pred)\n",
    "print('The accuracy score on the Test data is {}'.format(acc_score))"
   ]
  }
 ],
 "metadata": {
  "kernelspec": {
   "display_name": "Python 3",
   "language": "python",
   "name": "python3"
  },
  "language_info": {
   "name": "python",
   "version": "3.10.8"
  },
  "orig_nbformat": 4
 },
 "nbformat": 4,
 "nbformat_minor": 2
}
